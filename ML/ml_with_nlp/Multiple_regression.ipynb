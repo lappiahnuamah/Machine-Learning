{
 "cells": [
  {
   "cell_type": "code",
   "execution_count": 2,
   "id": "cce4a197",
   "metadata": {},
   "outputs": [],
   "source": [
    "import numpy as np\n",
    "import pandas as pd\n",
    "import matplotlib.pyplot as plt"
   ]
  },
  {
   "cell_type": "code",
   "execution_count": 3,
   "id": "fefd80e1",
   "metadata": {},
   "outputs": [],
   "source": [
    "dataset = pd.read_csv('50_companies.csv')"
   ]
  },
  {
   "cell_type": "code",
   "execution_count": 4,
   "id": "89dea24a",
   "metadata": {},
   "outputs": [
    {
     "data": {
      "text/html": [
       "<div>\n",
       "<style scoped>\n",
       "    .dataframe tbody tr th:only-of-type {\n",
       "        vertical-align: middle;\n",
       "    }\n",
       "\n",
       "    .dataframe tbody tr th {\n",
       "        vertical-align: top;\n",
       "    }\n",
       "\n",
       "    .dataframe thead th {\n",
       "        text-align: right;\n",
       "    }\n",
       "</style>\n",
       "<table border=\"1\" class=\"dataframe\">\n",
       "  <thead>\n",
       "    <tr style=\"text-align: right;\">\n",
       "      <th></th>\n",
       "      <th>Major&amp;Minor Works</th>\n",
       "      <th>R&amp;D Spend</th>\n",
       "      <th>Marketing Spend</th>\n",
       "      <th>Profit</th>\n",
       "    </tr>\n",
       "  </thead>\n",
       "  <tbody>\n",
       "    <tr>\n",
       "      <th>count</th>\n",
       "      <td>50.000000</td>\n",
       "      <td>50.000000</td>\n",
       "      <td>50.000000</td>\n",
       "      <td>50.000000</td>\n",
       "    </tr>\n",
       "    <tr>\n",
       "      <th>mean</th>\n",
       "      <td>94221.615600</td>\n",
       "      <td>136344.639600</td>\n",
       "      <td>231525.097800</td>\n",
       "      <td>137012.639200</td>\n",
       "    </tr>\n",
       "    <tr>\n",
       "      <th>std</th>\n",
       "      <td>45902.256482</td>\n",
       "      <td>28017.802755</td>\n",
       "      <td>122290.310726</td>\n",
       "      <td>40306.180338</td>\n",
       "    </tr>\n",
       "    <tr>\n",
       "      <th>min</th>\n",
       "      <td>20500.000000</td>\n",
       "      <td>66283.140000</td>\n",
       "      <td>20500.000000</td>\n",
       "      <td>39681.400000</td>\n",
       "    </tr>\n",
       "    <tr>\n",
       "      <th>25%</th>\n",
       "      <td>60436.370000</td>\n",
       "      <td>118730.875000</td>\n",
       "      <td>149800.132500</td>\n",
       "      <td>115138.902500</td>\n",
       "    </tr>\n",
       "    <tr>\n",
       "      <th>50%</th>\n",
       "      <td>93551.080000</td>\n",
       "      <td>137699.795000</td>\n",
       "      <td>233216.240000</td>\n",
       "      <td>132978.190000</td>\n",
       "    </tr>\n",
       "    <tr>\n",
       "      <th>75%</th>\n",
       "      <td>122102.800000</td>\n",
       "      <td>159842.180000</td>\n",
       "      <td>319969.085000</td>\n",
       "      <td>164765.977500</td>\n",
       "    </tr>\n",
       "    <tr>\n",
       "      <th>max</th>\n",
       "      <td>185849.200000</td>\n",
       "      <td>197645.560000</td>\n",
       "      <td>492284.100000</td>\n",
       "      <td>217261.830000</td>\n",
       "    </tr>\n",
       "  </tbody>\n",
       "</table>\n",
       "</div>"
      ],
      "text/plain": [
       "       Major&Minor Works      R&D Spend  Marketing Spend         Profit\n",
       "count          50.000000      50.000000        50.000000      50.000000\n",
       "mean        94221.615600  136344.639600    231525.097800  137012.639200\n",
       "std         45902.256482   28017.802755    122290.310726   40306.180338\n",
       "min         20500.000000   66283.140000     20500.000000   39681.400000\n",
       "25%         60436.370000  118730.875000    149800.132500  115138.902500\n",
       "50%         93551.080000  137699.795000    233216.240000  132978.190000\n",
       "75%        122102.800000  159842.180000    319969.085000  164765.977500\n",
       "max        185849.200000  197645.560000    492284.100000  217261.830000"
      ]
     },
     "execution_count": 4,
     "metadata": {},
     "output_type": "execute_result"
    }
   ],
   "source": [
    "dataset.describe()"
   ]
  },
  {
   "cell_type": "code",
   "execution_count": 5,
   "id": "161aa067",
   "metadata": {},
   "outputs": [
    {
     "data": {
      "text/plain": [
       "(50, 5)"
      ]
     },
     "execution_count": 5,
     "metadata": {},
     "output_type": "execute_result"
    }
   ],
   "source": [
    "dataset.shape"
   ]
  },
  {
   "cell_type": "code",
   "execution_count": 6,
   "id": "032b2490",
   "metadata": {},
   "outputs": [
    {
     "data": {
      "text/plain": [
       "Index(['Major&Minor Works', 'R&D Spend', 'Marketing Spend', 'Location',\n",
       "       'Profit'],\n",
       "      dtype='object')"
      ]
     },
     "execution_count": 6,
     "metadata": {},
     "output_type": "execute_result"
    }
   ],
   "source": [
    "dataset.columns"
   ]
  },
  {
   "cell_type": "code",
   "execution_count": 7,
   "id": "1deb3f94",
   "metadata": {},
   "outputs": [],
   "source": [
    "X = dataset.iloc[:, :-1].values"
   ]
  },
  {
   "cell_type": "code",
   "execution_count": 8,
   "id": "2e688177",
   "metadata": {},
   "outputs": [],
   "source": [
    "Y = dataset.iloc[:, 4].values"
   ]
  },
  {
   "cell_type": "code",
   "execution_count": 9,
   "id": "f21eed4a",
   "metadata": {},
   "outputs": [],
   "source": [
    "#Encoding Categorical Data in the datasets\n",
    "from sklearn.preprocessing import LabelEncoder, OneHotEncoder\n",
    "labelencoder = LabelEncoder()"
   ]
  },
  {
   "cell_type": "code",
   "execution_count": 10,
   "id": "5c677ca4",
   "metadata": {},
   "outputs": [
    {
     "data": {
      "text/plain": [
       "array([[185849.2, 151897.8, 492284.1, 0],\n",
       "       [183097.7, 166377.59, 464398.53, 1],\n",
       "       [173941.51, 116145.55, 428434.54, 2],\n",
       "       [164872.41, 133671.85, 403699.62, 0],\n",
       "       [162607.34, 106391.77, 386668.42, 2],\n",
       "       [152376.9, 114814.71, 383361.36, 0],\n",
       "       [155115.46, 162198.87, 148216.82, 1],\n",
       "       [150798.13, 160530.06, 344376.68, 2],\n",
       "       [141042.52, 163718.95, 332113.29, 0],\n",
       "       [143834.88, 123679.17, 325481.62, 1],\n",
       "       [122413.08, 125594.11, 249660.95, 2],\n",
       "       [121171.96, 106790.61, 270244.55, 1],\n",
       "       [114363.75, 142320.38, 270339.44, 2],\n",
       "       [112492.39, 150495.07, 273164.93, 1],\n",
       "       [140443.24, 171547.42, 277012.92, 2],\n",
       "       [135023.61, 137616.84, 282276.23, 0],\n",
       "       [98513.11, 136597.55, 284846.06, 1],\n",
       "       [115157.16, 160077.58, 303074.31, 0],\n",
       "       [112249.16, 129175.79, 315419.57, 2],\n",
       "       [106919.7, 168514.11, 20500.0, 0],\n",
       "       [96753.86, 128867.3, 319164.47, 1],\n",
       "       [98889.47, 168773.43, 320237.29, 0],\n",
       "       [94494.56, 137782.75, 323819.26, 2],\n",
       "       [88032.53, 120751.03, 325268.73, 2],\n",
       "       [97544.01, 114281.34, 161074.81, 0],\n",
       "       [85164.71, 154553.16, 158462.62, 1],\n",
       "       [95828.87, 159135.98, 154550.07, 2],\n",
       "       [92607.6, 142864.55, 373683.81, 0],\n",
       "       [86551.52, 197645.56, 138648.2, 2],\n",
       "       [86105.48, 168032.06, 127638.38, 0],\n",
       "       [82494.48, 130641.28, 111631.24, 2],\n",
       "       [81636.38, 167701.92, 108718.23, 0],\n",
       "       [83908.86, 144219.61, 66585.25, 1],\n",
       "       [75993.95, 118057.49, 235134.81, 2],\n",
       "       [66926.07, 172693.92, 231297.67, 1],\n",
       "       [66514.02, 100047.44, 226017.64, 0],\n",
       "       [49163.76, 142056.21, 221626.82, 2],\n",
       "       [64569.95, 66283.14, 217529.42, 1],\n",
       "       [40729.59, 80947.93, 205765.1, 0],\n",
       "       [59058.51, 97982.09, 195499.3, 1],\n",
       "       [49254.33, 133546.05, 193295.67, 1],\n",
       "       [48392.92, 99710.77, 184970.71, 2],\n",
       "       [44140.93, 111189.63, 168501.11, 1],\n",
       "       [36005.73, 142382.3, 56034.17, 0],\n",
       "       [42677.74, 169806.14, 48834.72, 1],\n",
       "       [21500.23, 139153.04, 22403.93, 0],\n",
       "       [21815.46, 130816.21, 317614.46, 2],\n",
       "       [20500.0, 150426.92, 20500.0, 1],\n",
       "       [21042.05, 66743.15, 20500.0, 0],\n",
       "       [20500.0, 131983.8, 65673.06, 1]], dtype=object)"
      ]
     },
     "execution_count": 10,
     "metadata": {},
     "output_type": "execute_result"
    }
   ],
   "source": [
    "X[:, 3] = labelencoder.fit_transform(X[:, 3])"
   ]
  },
  {
   "cell_type": "code",
   "execution_count": 11,
   "id": "217903b4",
   "metadata": {},
   "outputs": [
    {
     "data": {
      "text/plain": [
       "(50, 4)"
      ]
     },
     "execution_count": 11,
     "metadata": {},
     "output_type": "execute_result"
    }
   ],
   "source": [
    "X.shape"
   ]
  },
  {
   "cell_type": "code",
   "execution_count": 16,
   "id": "6a3906a0",
   "metadata": {},
   "outputs": [],
   "source": [
    "X[:, 3] = labelencoder.fit_transform(X[:, 3])\n",
    "onehotencoder = OneHotEncoder()\n",
    "X = onehotencoder.fit_transform(X).toarray()\n",
    "X =X[:, 1:]   #Avoiding the Dummy Variable Trap"
   ]
  },
  {
   "cell_type": "code",
   "execution_count": 17,
   "id": "e6153133",
   "metadata": {},
   "outputs": [
    {
     "data": {
      "text/plain": [
       "array([[1., 1., 0., ..., 1., 1., 0.],\n",
       "       [1., 1., 0., ..., 1., 1., 0.],\n",
       "       [1., 1., 0., ..., 0., 0., 1.],\n",
       "       ...,\n",
       "       [0., 0., 1., ..., 1., 1., 0.],\n",
       "       [1., 1., 0., ..., 1., 1., 0.],\n",
       "       [0., 0., 1., ..., 1., 1., 0.]])"
      ]
     },
     "execution_count": 17,
     "metadata": {},
     "output_type": "execute_result"
    }
   ],
   "source": [
    "X"
   ]
  },
  {
   "cell_type": "code",
   "execution_count": null,
   "id": "76e49eaa",
   "metadata": {},
   "outputs": [],
   "source": []
  },
  {
   "cell_type": "code",
   "execution_count": null,
   "id": "50bfbdc6",
   "metadata": {},
   "outputs": [],
   "source": [
    "onehotencoder = OneHotEncoder()\n",
    "X = onehotencoder.fit_transform(X).toarray()"
   ]
  },
  {
   "cell_type": "code",
   "execution_count": 19,
   "id": "394e07b2",
   "metadata": {},
   "outputs": [],
   "source": [
    "from sklearn.model_selection import train_test_split"
   ]
  },
  {
   "cell_type": "code",
   "execution_count": null,
   "id": "79df67d2",
   "metadata": {},
   "outputs": [],
   "source": []
  },
  {
   "cell_type": "code",
   "execution_count": 20,
   "id": "243c263c",
   "metadata": {},
   "outputs": [],
   "source": [
    "#Preprocess the dataset\n",
    "\n",
    "x_train, x_test, y_train, y_test = train_test_split(X, Y, test_size=0.20, random_state=0)"
   ]
  },
  {
   "cell_type": "code",
   "execution_count": 21,
   "id": "66a0aeee",
   "metadata": {},
   "outputs": [
    {
     "data": {
      "text/plain": [
       "LinearRegression()"
      ]
     },
     "execution_count": 21,
     "metadata": {},
     "output_type": "execute_result"
    }
   ],
   "source": [
    "#fitting multiple dataset into Linear Regression \n",
    "\n",
    "from sklearn.linear_model import LinearRegression\n",
    "\n",
    "regressor = LinearRegression()\n",
    "regressor.fit(x_train, y_train)"
   ]
  },
  {
   "cell_type": "code",
   "execution_count": 22,
   "id": "28b99154",
   "metadata": {},
   "outputs": [],
   "source": [
    "y_pred = regressor.predict(x_test) #Predicting the test set result"
   ]
  },
  {
   "cell_type": "code",
   "execution_count": 23,
   "id": "d881eaeb",
   "metadata": {},
   "outputs": [
    {
     "name": "stdout",
     "output_type": "stream",
     "text": [
      "[121583.93259919 116562.08372327 121583.93259919 124680.36092666\n",
      " 121583.93259919 130430.83305326 131670.5351612  130430.83305326\n",
      " 121583.93259919 121583.93259919] [128282.38 169259.4  171121.95 102798.83 216050.39 130008.31 106229.06\n",
      " 122483.56 135352.25 191187.94]\n"
     ]
    }
   ],
   "source": [
    "print(y_pred, y_test)"
   ]
  },
  {
   "cell_type": "code",
   "execution_count": null,
   "id": "b4910b57",
   "metadata": {},
   "outputs": [],
   "source": []
  }
 ],
 "metadata": {
  "kernelspec": {
   "display_name": "Python 3 (ipykernel)",
   "language": "python",
   "name": "python3"
  },
  "language_info": {
   "codemirror_mode": {
    "name": "ipython",
    "version": 3
   },
   "file_extension": ".py",
   "mimetype": "text/x-python",
   "name": "python",
   "nbconvert_exporter": "python",
   "pygments_lexer": "ipython3",
   "version": "3.9.7"
  }
 },
 "nbformat": 4,
 "nbformat_minor": 5
}
